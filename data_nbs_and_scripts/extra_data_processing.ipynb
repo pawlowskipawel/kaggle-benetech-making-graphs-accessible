{
 "cells": [
  {
   "cell_type": "code",
   "execution_count": 1,
   "metadata": {},
   "outputs": [],
   "source": [
    "import pandas as pd\n",
    "import os\n",
    "\n",
    "INCLUDE_CHART_TYPE_IN_TEXT = False"
   ]
  },
  {
   "cell_type": "code",
   "execution_count": 2,
   "metadata": {},
   "outputs": [],
   "source": [
    "import numpy as np\n",
    "import random\n",
    "import os\n",
    "\n",
    "def seed_everything(seed=3407):\n",
    "    random.seed(seed)\n",
    "    os.environ['PYTHONHASHSEED'] = str(seed)\n",
    "    np.random.seed(seed)\n",
    "\n",
    "seed_everything()"
   ]
  },
  {
   "cell_type": "code",
   "execution_count": 3,
   "metadata": {},
   "outputs": [],
   "source": [
    "!rm -rf /home/pawel/Projects/benetech-making-graphs-accessible/data/train_with_extra_data\n",
    "!mkdir /home/pawel/Projects/benetech-making-graphs-accessible/data/train_with_extra_data"
   ]
  },
  {
   "cell_type": "code",
   "execution_count": 4,
   "metadata": {},
   "outputs": [],
   "source": [
    "extra_data_df = pd.read_csv(\"/home/pawel/Projects/benetech-making-graphs-accessible/data/extra_data/metadata.csv\")\n",
    "extra_data_df = extra_data_df[extra_data_df[\"validation\"] != 1]\n",
    "extra_data_df = extra_data_df[extra_data_df[\"count\"] <= 20]"
   ]
  },
  {
   "cell_type": "code",
   "execution_count": 5,
   "metadata": {},
   "outputs": [
    {
     "data": {
      "text/plain": [
       "chart_type\n",
       "dot               100000\n",
       "horizontal_bar    100000\n",
       "line              100000\n",
       "vertical_bar      100000\n",
       "scatter            21561\n",
       "Name: count, dtype: int64"
      ]
     },
     "execution_count": 5,
     "metadata": {},
     "output_type": "execute_result"
    }
   ],
   "source": [
    "extra_data_df[\"chart_type\"].value_counts()"
   ]
  },
  {
   "cell_type": "code",
   "execution_count": 6,
   "metadata": {},
   "outputs": [],
   "source": [
    "dot_df = extra_data_df[(extra_data_df[\"chart_type\"] == \"dot\")].sample(13000).reset_index(drop=True)\n",
    "horizontal_df = extra_data_df[extra_data_df[\"chart_type\"] == \"horizontal_bar\"].sample(19000).reset_index(drop=True)\n",
    "scatter_df = extra_data_df[extra_data_df[\"chart_type\"] == \"scatter\"].sample(10000).reset_index(drop=True)\n",
    "vertical_df = extra_data_df[extra_data_df[\"chart_type\"] == \"vertical_bar\"].sample(2000).reset_index(drop=True)\n"
   ]
  },
  {
   "cell_type": "code",
   "execution_count": 7,
   "metadata": {},
   "outputs": [],
   "source": [
    "dot_df[\"image_path\"] = dot_df[\"file_name\"].str.replace(\"graphs_d\", \"/home/pawel/Projects/benetech-making-graphs-accessible/data/extra_data/graphs_d\", regex=False)\n",
    "horizontal_df[\"image_path\"] = horizontal_df[\"file_name\"].str.replace(\"graphs_h\", \"/home/pawel/Projects/benetech-making-graphs-accessible/data/extra_data/graphs_h\", regex=False)\n",
    "scatter_df[\"image_path\"] = scatter_df[\"file_name\"].str.replace(\"graphs_s\", \"/home/pawel/Projects/benetech-making-graphs-accessible/data/extra_data/graphs_s\", regex=False)\n",
    "vertical_df[\"image_path\"] = vertical_df[\"file_name\"].str.replace(\"graphs_v\", \"/home/pawel/Projects/benetech-making-graphs-accessible/data/extra_data/graphs_v\", regex=False)"
   ]
  },
  {
   "cell_type": "code",
   "execution_count": 8,
   "metadata": {},
   "outputs": [],
   "source": [
    "from shutil import copy\n",
    "\n",
    "for image_path in dot_df[\"image_path\"].values:\n",
    "    copy(image_path, image_path.replace(\"/home/pawel/Projects/benetech-making-graphs-accessible/data/extra_data/graphs_d/\", \"/home/pawel/Projects/benetech-making-graphs-accessible/data/train_with_extra_data/d_\"))\n",
    "\n",
    "for image_path in horizontal_df[\"image_path\"].values:\n",
    "    copy(image_path, image_path.replace(\"/home/pawel/Projects/benetech-making-graphs-accessible/data/extra_data/graphs_h/\", \"/home/pawel/Projects/benetech-making-graphs-accessible/data/train_with_extra_data/h_\"))\n",
    "    \n",
    "for image_path in scatter_df[\"image_path\"].values:\n",
    "    copy(image_path, image_path.replace(\"/home/pawel/Projects/benetech-making-graphs-accessible/data/extra_data/graphs_s/\", \"/home/pawel/Projects/benetech-making-graphs-accessible/data/train_with_extra_data/s_\"))\n",
    "    \n",
    "for image_path in vertical_df[\"image_path\"].values:\n",
    "    copy(image_path, image_path.replace(\"/home/pawel/Projects/benetech-making-graphs-accessible/data/extra_data/graphs_v/\", \"/home/pawel/Projects/benetech-making-graphs-accessible/data/train_with_extra_data/v_\"))"
   ]
  },
  {
   "cell_type": "code",
   "execution_count": 9,
   "metadata": {},
   "outputs": [],
   "source": [
    "dot_df[\"image_path\"] = dot_df[\"image_path\"].str.replace(\"/home/pawel/Projects/benetech-making-graphs-accessible/data/extra_data/graphs_d/\", \"/home/pawel/Projects/benetech-making-graphs-accessible/data/train_with_extra_data/d_\")\n",
    "horizontal_df[\"image_path\"] = horizontal_df[\"image_path\"].str.replace(\"/home/pawel/Projects/benetech-making-graphs-accessible/data/extra_data/graphs_h/\", \"/home/pawel/Projects/benetech-making-graphs-accessible/data/train_with_extra_data/h_\")\n",
    "scatter_df[\"image_path\"] = scatter_df[\"image_path\"].str.replace(\"/home/pawel/Projects/benetech-making-graphs-accessible/data/extra_data/graphs_s/\", \"/home/pawel/Projects/benetech-making-graphs-accessible/data/train_with_extra_data/s_\")\n",
    "vertical_df[\"image_path\"] = vertical_df[\"image_path\"].str.replace(\"/home/pawel/Projects/benetech-making-graphs-accessible/data/extra_data/graphs_v/\", \"/home/pawel/Projects/benetech-making-graphs-accessible/data/train_with_extra_data/v_\")"
   ]
  },
  {
   "cell_type": "code",
   "execution_count": 10,
   "metadata": {},
   "outputs": [],
   "source": [
    "extra_data_df = pd.concat([dot_df, horizontal_df, scatter_df, vertical_df], ignore_index=True)\n",
    "\n",
    "extra_data_df[\"target_text\"] = \"x | y <0x0A> \" + extra_data_df[\"text\"]#.str.replace(\" <0x0A> \", \"<0x0A>\", regex=False)\n",
    "\n",
    "if INCLUDE_CHART_TYPE_IN_TEXT:\n",
    "    extra_data_df[\"target_text\"] = extra_data_df[\"chart_type\"] + \" <0x0A> \" + extra_data_df[\"target_text\"]"
   ]
  },
  {
   "cell_type": "code",
   "execution_count": 11,
   "metadata": {},
   "outputs": [],
   "source": [
    "extra_data_df[\"target_type\"] = extra_data_df[\"chart_type\"]"
   ]
  },
  {
   "cell_type": "code",
   "execution_count": 12,
   "metadata": {},
   "outputs": [],
   "source": [
    "extra_data_df[\"source\"] = \"generated\""
   ]
  },
  {
   "cell_type": "code",
   "execution_count": 13,
   "metadata": {},
   "outputs": [],
   "source": [
    "output = []\n",
    "for xy in extra_data_df[\"text\"].values:\n",
    "    xy = xy.split(\"<0x0A>\")\n",
    "    \n",
    "    x = \";\".join([xy_.split(\" | \")[0] for xy_ in xy])\n",
    "    y = \";\".join([xy_.split(\" | \")[1] for xy_ in xy])\n",
    "    \n",
    "    output.append([x, y])"
   ]
  },
  {
   "cell_type": "code",
   "execution_count": 14,
   "metadata": {},
   "outputs": [],
   "source": [
    "extra_data_df.loc[:, [\"target_text_x\", \"target_text_y\"]] = output"
   ]
  },
  {
   "cell_type": "code",
   "execution_count": 15,
   "metadata": {},
   "outputs": [],
   "source": [
    "def get_axis_type(axis):\n",
    "    axis = axis.split(\";\", )\n",
    "    try:\n",
    "        float(axis[0])\n",
    "        return \"numerical\"\n",
    "    except Exception:\n",
    "        return \"categorical\""
   ]
  },
  {
   "cell_type": "code",
   "execution_count": 16,
   "metadata": {},
   "outputs": [],
   "source": [
    "extra_data_df[\"x_axis_type\"] = extra_data_df[\"target_text_x\"].apply(get_axis_type)\n",
    "extra_data_df[\"y_axis_type\"] = extra_data_df[\"target_text_y\"].apply(get_axis_type)"
   ]
  },
  {
   "cell_type": "code",
   "execution_count": 17,
   "metadata": {},
   "outputs": [],
   "source": [
    "extra_data_df.drop([\"file_name\", \"text\", \"validation\", \"chart_type\", \"count\"], axis=1, inplace=True)"
   ]
  },
  {
   "cell_type": "code",
   "execution_count": 18,
   "metadata": {},
   "outputs": [],
   "source": [
    "extra_data_df.to_csv(f\"../data/extra_data{'_with_type' if INCLUDE_CHART_TYPE_IN_TEXT else ''}.csv\", index=False)"
   ]
  },
  {
   "cell_type": "code",
   "execution_count": null,
   "metadata": {},
   "outputs": [],
   "source": []
  },
  {
   "cell_type": "code",
   "execution_count": null,
   "metadata": {},
   "outputs": [],
   "source": []
  }
 ],
 "metadata": {
  "kernelspec": {
   "display_name": "benetech",
   "language": "python",
   "name": "python3"
  },
  "language_info": {
   "codemirror_mode": {
    "name": "ipython",
    "version": 3
   },
   "file_extension": ".py",
   "mimetype": "text/x-python",
   "name": "python",
   "nbconvert_exporter": "python",
   "pygments_lexer": "ipython3",
   "version": "3.8.16"
  },
  "orig_nbformat": 4
 },
 "nbformat": 4,
 "nbformat_minor": 2
}
